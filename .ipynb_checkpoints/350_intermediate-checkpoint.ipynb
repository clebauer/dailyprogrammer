{
 "cells": [
  {
   "cell_type": "code",
   "execution_count": 1,
   "metadata": {
    "collapsed": true
   },
   "outputs": [],
   "source": [
    "# https://www.reddit.com/r/dailyprogrammer/comments/7vx85p/20180207_challenge_350_intermediate_balancing_my/\n",
    "# Given my bank account transactions - debits and credits - as a sequence of integers, \n",
    "# at what points do my behaviors show the same sub-sums of all transactions before or after. \n",
    "# Basically can you find the equilibria points of my bank account?"
   ]
  },
  {
   "cell_type": "code",
   "execution_count": null,
   "metadata": {
    "collapsed": true
   },
   "outputs": [],
   "source": [
    "inp = '''11\n",
    "3 -2 2 0 3 4 -6 3 5 -4 8\n",
    "11 \n",
    "9 0 -5 -4 1 4 -4 -9 0 -7 -1\n",
    "11 \n",
    "9 -7 6 -8 3 -9 -5 3 -6 -8 5'''"
   ]
  },
  {
   "cell_type": "code",
   "execution_count": 188,
   "metadata": {
    "collapsed": true
   },
   "outputs": [],
   "source": [
    "def balance_spending(i):\n",
    "    # pull sets from input\n",
    "    all_sets = [map(int, y.split(' ')) for y in i.split('\\n')[1::2]]\n",
    "    \n",
    "    for this_set in all_sets:\n",
    "        answer_str = []\n",
    "    \n",
    "        left_sum = 0\n",
    "        right_sum = sum(this_set[1:])\n",
    "\n",
    "        if left_sum == right_sum:\n",
    "            answer_str += [0]\n",
    "        for x in range(1,len(this_set)):\n",
    "            left_sum += this_set[x-1]\n",
    "            right_sum -= this_set[x]\n",
    "            if left_sum == right_sum:\n",
    "                answer_str += [x]\n",
    "        print ' '.join(map(str, answer_str))"
   ]
  },
  {
   "cell_type": "code",
   "execution_count": 189,
   "metadata": {},
   "outputs": [
    {
     "name": "stdout",
     "output_type": "stream",
     "text": [
      "5\n",
      "8\n",
      "6\n"
     ]
    }
   ],
   "source": [
    "balance_spending(inp)"
   ]
  },
  {
   "cell_type": "code",
   "execution_count": null,
   "metadata": {
    "collapsed": true
   },
   "outputs": [],
   "source": []
  }
 ],
 "metadata": {
  "kernelspec": {
   "display_name": "Python 2",
   "language": "python",
   "name": "python2"
  },
  "language_info": {
   "codemirror_mode": {
    "name": "ipython",
    "version": 2
   },
   "file_extension": ".py",
   "mimetype": "text/x-python",
   "name": "python",
   "nbconvert_exporter": "python",
   "pygments_lexer": "ipython2",
   "version": "2.7.12"
  }
 },
 "nbformat": 4,
 "nbformat_minor": 2
}
