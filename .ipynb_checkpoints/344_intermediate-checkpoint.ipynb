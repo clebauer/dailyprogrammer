{
 "cells": [
  {
   "cell_type": "code",
   "execution_count": 1,
   "metadata": {
    "collapsed": true
   },
   "outputs": [],
   "source": [
    "# https://www.reddit.com/r/dailyprogrammer/comments/7jkfu5/20171213_challenge_344_intermediate_bankers/\n",
    "# Create a program that will solve the banker’s algorithm. This algorithm stops deadlocks from happening \n",
    "# by not allowing processes to start if they don’t have access to the resources necessary to finish. \n",
    "# A process is allocated certain resources from the start, and there are other available resources. \n",
    "# In order for the process to end, it has to have the maximum resources in each slot."
   ]
  },
  {
   "cell_type": "code",
   "execution_count": 2,
   "metadata": {
    "collapsed": true
   },
   "outputs": [],
   "source": [
    "# This first row of this input contains available resources, followed by rows of processes with their\n",
    "# allocated resources and the mass resources they need.\n",
    "inp = '''[3 3 2]\n",
    "[0 1 0 7 5 3]\n",
    "[2 0 0 3 2 2]\n",
    "[3 0 2 9 0 2]\n",
    "[2 1 1 2 2 2]\n",
    "[0 0 2 4 3 3]'''"
   ]
  },
  {
   "cell_type": "code",
   "execution_count": 7,
   "metadata": {},
   "outputs": [],
   "source": [
    "def split_list(a_list):\n",
    "    half = len(a_list)/2\n",
    "    return a_list[:half], a_list[half:]\n",
    "\n",
    "def parse_input(i):\n",
    "    # convert string representation of lists into actual list.\n",
    "    # also, split by commas.\n",
    "    full_set = [eval(x.replace(' ', ', ')) for x in i.split('\\n')]\n",
    "    \n",
    "    # return current resources, each process\n",
    "    return full_set[0], full_set[1:]"
   ]
  },
  {
   "cell_type": "code",
   "execution_count": null,
   "metadata": {
    "collapsed": true
   },
   "outputs": [],
   "source": [
    "x = parse_input(inp)[1]\n",
    "map(split_list, x)\n",
    "\n",
    "#-----\n",
    "a, processes = parse_input(inp)\n",
    "processes['run'] = 0\n",
    "\n",
    "# until we've gotten them all to run.\n",
    "while all(processes['run'] != 1):\n",
    "    # make sure only to use the processes that have been set to 0.\n",
    "    processes_use = processes[processes['run']==0]\n",
    "    \n",
    "    # determine the set of processes that \n",
    "    good_to_go = processes_use[reduce(lambda x,y: x & y, [processes_use[i] + a[i] >= processes_use[i+3] for i in range(len(a))])]\n",
    "    \n",
    "    # if there are no options, it's not possible. (check again re tree-processing)\n",
    "    #if len(good_to_go) == 0:\n",
    "    #    return 'Not enough resources, sorry!'\n",
    "    \n",
    "    good_to_go[0]"
   ]
  },
  {
   "cell_type": "code",
   "execution_count": null,
   "metadata": {
    "collapsed": true
   },
   "outputs": [],
   "source": []
  },
  {
   "cell_type": "code",
   "execution_count": null,
   "metadata": {},
   "outputs": [],
   "source": [
    "a, processes = parse_input(inp)\n",
    "processes['run'] = 0\n",
    "\n",
    "# make sure only to use the processes that have been set to 0.\n",
    "processes_use = processes[processes['run']==0]\n",
    "\n",
    "# determine the set of processes that can run with their allocation!\n",
    "good_to_go = processes_use[reduce(lambda x,y: x & y, [processes_use[i] + a[i] >= processes_use[i+3] for i in range(len(a))])].reset_index().drop('index', axis=1)\n",
    "\n",
    "# if there are no options, it's not possible. (check again re tree-processing)\n",
    "#if len(good_to_go) == 0:\n",
    "#    return 'Not enough resources, sorry!'\n",
    "\n",
    "# dis the one we want!\n",
    "process_to_parse = good_to_go.loc[0]\n",
    "a = \n",
    "process_to_parse\n",
    "\n"
   ]
  },
  {
   "cell_type": "code",
   "execution_count": null,
   "metadata": {},
   "outputs": [],
   "source": [
    "good_to_go.loc[0]"
   ]
  },
  {
   "cell_type": "code",
   "execution_count": null,
   "metadata": {
    "collapsed": true
   },
   "outputs": [],
   "source": []
  }
 ],
 "metadata": {
  "kernelspec": {
   "display_name": "Python 2",
   "language": "python",
   "name": "python2"
  },
  "language_info": {
   "codemirror_mode": {
    "name": "ipython",
    "version": 2
   },
   "file_extension": ".py",
   "mimetype": "text/x-python",
   "name": "python",
   "nbconvert_exporter": "python",
   "pygments_lexer": "ipython2",
   "version": "2.7.12"
  }
 },
 "nbformat": 4,
 "nbformat_minor": 2
}
