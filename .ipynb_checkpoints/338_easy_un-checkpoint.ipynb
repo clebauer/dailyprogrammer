{
 "cells": [
  {
   "cell_type": "code",
   "execution_count": 1,
   "metadata": {
    "collapsed": true
   },
   "outputs": [],
   "source": [
    "# https://www.reddit.com/r/dailyprogrammer/comments/79npf9/20171030_challenge_338_easy_what_day_was_it_again/\n",
    "# What day was it again?"
   ]
  },
  {
   "cell_type": "code",
   "execution_count": 31,
   "metadata": {
    "collapsed": true
   },
   "outputs": [],
   "source": [
    "inp='''2017 10 30\n",
    "2016 2 29\n",
    "2015 2 28\n",
    "29 4 12\n",
    "570 11 30\n",
    "1066 9 25\n",
    "1776 7 4\n",
    "1933 1 30\n",
    "1953 3 6\n",
    "2100 1 9\n",
    "2202 12 15\n",
    "7032 3 26'''"
   ]
  },
  {
   "cell_type": "code",
   "execution_count": null,
   "metadata": {
    "collapsed": true
   },
   "outputs": [],
   "source": []
  },
  {
   "cell_type": "code",
   "execution_count": 28,
   "metadata": {
    "collapsed": true
   },
   "outputs": [],
   "source": [
    "def whats_the_date(inp):\n",
    "    final_list = []\n",
    "    \n",
    "    year, month, day = map(int, inp.split(' '))\n",
    "    # oh my god, this Zeller's Algorithm thing is amazing!\n",
    "    q = day\n",
    "    m = month if month not in (1, 2) else month+12\n",
    "    j = year / 100\n",
    "    k = year % 100\n",
    "    \n",
    "    pt_1 = q\n",
    "    pt_2 = (13*(m+1))//5\n",
    "    pt_3 = k\n",
    "    pt_4 = k//4\n",
    "    pt_5 = j//4\n",
    "    pt_6 = (5*j)\n",
    "    #print q, m, j, k\n",
    "    #print pt_1, pt_2, pt_3, pt_4, pt_5, pt_6\n",
    "    h = (pt_1 + pt_2 + pt_3 + pt_4 + pt_5 + pt_6)% 7\n",
    "    return h"
   ]
  },
  {
   "cell_type": "code",
   "execution_count": 30,
   "metadata": {},
   "outputs": [
    {
     "data": {
      "text/plain": [
       "2"
      ]
     },
     "execution_count": 30,
     "metadata": {},
     "output_type": "execute_result"
    }
   ],
   "source": [
    "whats_the_date(inp)"
   ]
  },
  {
   "cell_type": "code",
   "execution_count": 7,
   "metadata": {},
   "outputs": [
    {
     "data": {
      "text/plain": [
       "2017"
      ]
     },
     "execution_count": 7,
     "metadata": {},
     "output_type": "execute_result"
    }
   ],
   "source": [
    " ['Monday', 'Monday', 'Saturday', 'Thursday', 'Friday', 'Tuesday', 'Thursday', 'Monday', 'Friday', 'Sunday', 'Wednesday', 'Monday']"
   ]
  },
  {
   "cell_type": "code",
   "execution_count": null,
   "metadata": {
    "collapsed": true
   },
   "outputs": [],
   "source": []
  }
 ],
 "metadata": {
  "kernelspec": {
   "display_name": "Python 2",
   "language": "python",
   "name": "python2"
  },
  "language_info": {
   "codemirror_mode": {
    "name": "ipython",
    "version": 2
   },
   "file_extension": ".py",
   "mimetype": "text/x-python",
   "name": "python",
   "nbconvert_exporter": "python",
   "pygments_lexer": "ipython2",
   "version": "2.7.12"
  }
 },
 "nbformat": 4,
 "nbformat_minor": 2
}
