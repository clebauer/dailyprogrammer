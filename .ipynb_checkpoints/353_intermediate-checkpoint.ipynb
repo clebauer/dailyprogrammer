{
 "cells": [
  {
   "cell_type": "code",
   "execution_count": 1,
   "metadata": {
    "collapsed": true
   },
   "outputs": [],
   "source": [
    "#https://www.reddit.com/r/dailyprogrammer/comments/82pt3h/20180307_challenge_353_intermediate/\n",
    "# I work as a waiter at a local breakfast establishment. The chef at the pancake house is \n",
    "# sloppier than I like, and when I deliver the pancakes I want them to be sorted biggest on \n",
    "# bottom and smallest on top. Problem is, all I have is a spatula. I can grab substacks of \n",
    "# pancakes and flip them over to sort them, but I can't otherwise move them from the middle to the top.\n",
    "# \n",
    "# How can I achieve this efficiently?\n",
    "# \n",
    "# This is a well known problem called the pancake sorting problem. Bill Gates once wrote a paper on\n",
    "# this that established the best known upper bound for 30 years. This particular challenge is \n",
    "# two-fold: implement the algorithm, and challenge one another for efficiency."
   ]
  },
  {
   "cell_type": "code",
   "execution_count": 2,
   "metadata": {
    "collapsed": true
   },
   "outputs": [],
   "source": [
    "def how_many_flips(i):\n",
    "    # Pull pancake stack from input\n",
    "    all_pancake_sets = [map(int, y.split(' ')) for y in inp.split('\\n')[1::3]]\n",
    "    \n",
    "    for pancakes in all_pancake_sets:\n",
    "        #pancakes = map(int, inp.split('\\n')[1].split(' ')) #11 5 2 10 3 5\n",
    "        print '\\nPancakes! ->', pancakes\n",
    "        \n",
    "        # Sort in reverse for reasons\n",
    "        big_to_small = sorted(pancakes, reverse=True) #11 10 5 5 3 2\n",
    "        flip_count = 0   \n",
    "        \n",
    "        for x in big_to_small: #x = 11\n",
    "            where_we_want_it = len(big_to_small)-1\n",
    "            unordered_pancakes = pancakes[0:where_we_want_it+1]\n",
    "            big_pancake_idx = len(unordered_pancakes) - 1 - unordered_pancakes[::-1].index(x) #\n",
    "            \n",
    "            # check if it's where it's supposed to be. if not, do stuff.\n",
    "            if big_pancake_idx != where_we_want_it:\n",
    "                # fine. check if it's at the beginning. if not, place it at zero.\n",
    "                if big_pancake_idx != 0:\n",
    "                    # alright, how do we get it to 0.\n",
    "                    # we figure out where it is right now (big_pancake_idx)\n",
    "                    # so we grab the set of pancakes from 0 to and including that\n",
    "                    top_cakes = pancakes[0:big_pancake_idx+1][::-1] # and flip it\n",
    "                    bottom_cakes = pancakes[big_pancake_idx+1:] # grab the bottom ones \n",
    "                    \n",
    "                    pancakes = top_cakes + bottom_cakes # MUSH 'EM TOGETHAH\n",
    "                    flip_count += 1 # keep track o'dat\n",
    "                    print 'Flip', flip_count, 'to ->', pancakes\n",
    "    \n",
    "                # okay, it's at zero now. flip 'em so it's where it's supposed to be\n",
    "                \n",
    "                # so now we know that the pancake is at index 0\n",
    "                # but where do we want to flip it back to? the length of where_we_want_it\n",
    "                top_cakes = pancakes[0:where_we_want_it+1][::-1] # and flipit\n",
    "                bottom_cakes = pancakes[where_we_want_it+1:]\n",
    "                \n",
    "                pancakes = top_cakes + bottom_cakes # MUSH 'EM TOGETHAH\n",
    "                flip_count += 1\n",
    "                print 'Flip', flip_count, 'to ->', pancakes\n",
    "                \n",
    "            big_to_small = big_to_small[1:]\n",
    "                \n",
    "            if pancakes == sorted(pancakes):\n",
    "                break#return flip_count\n",
    "        #break#return flip_count            "
   ]
  },
  {
   "cell_type": "code",
   "execution_count": 3,
   "metadata": {},
   "outputs": [
    {
     "name": "stdout",
     "output_type": "stream",
     "text": [
      "\n",
      "Pancakes! -> [7, 6, 4, 2, 6, 7, 8, 7]\n",
      "Flip 1 to -> [8, 7, 6, 2, 4, 6, 7, 7]\n",
      "Flip 2 to -> [7, 7, 6, 4, 2, 6, 7, 8]\n",
      "Flip 3 to -> [7, 7, 6, 4, 2, 6, 7, 8]\n",
      "Flip 4 to -> [6, 2, 4, 6, 7, 7, 7, 8]\n",
      "Flip 5 to -> [4, 2, 6, 6, 7, 7, 7, 8]\n",
      "Flip 6 to -> [2, 4, 6, 6, 7, 7, 7, 8]\n",
      "\n",
      "Pancakes! -> [11, 5, 12, 3, 10, 3, 2, 5]\n",
      "Flip 1 to -> [12, 5, 11, 3, 10, 3, 2, 5]\n",
      "Flip 2 to -> [5, 2, 3, 10, 3, 11, 5, 12]\n",
      "Flip 3 to -> [11, 3, 10, 3, 2, 5, 5, 12]\n",
      "Flip 4 to -> [5, 5, 2, 3, 10, 3, 11, 12]\n",
      "Flip 5 to -> [10, 3, 2, 5, 5, 3, 11, 12]\n",
      "Flip 6 to -> [3, 5, 5, 2, 3, 10, 11, 12]\n",
      "Flip 7 to -> [5, 5, 3, 2, 3, 10, 11, 12]\n",
      "Flip 8 to -> [3, 2, 3, 5, 5, 10, 11, 12]\n",
      "Flip 9 to -> [2, 3, 3, 5, 5, 10, 11, 12]\n",
      "\n",
      "Pancakes! -> [3, 12, 8, 12, 4, 7, 10, 3, 8, 10]\n",
      "Flip 1 to -> [12, 8, 12, 3, 4, 7, 10, 3, 8, 10]\n",
      "Flip 2 to -> [10, 8, 3, 10, 7, 4, 3, 12, 8, 12]\n",
      "Flip 3 to -> [12, 3, 4, 7, 10, 3, 8, 10, 8, 12]\n",
      "Flip 4 to -> [8, 10, 8, 3, 10, 7, 4, 3, 12, 12]\n",
      "Flip 5 to -> [10, 3, 8, 10, 8, 7, 4, 3, 12, 12]\n",
      "Flip 6 to -> [3, 4, 7, 8, 10, 8, 3, 10, 12, 12]\n",
      "Flip 7 to -> [10, 8, 7, 4, 3, 8, 3, 10, 12, 12]\n",
      "Flip 8 to -> [3, 8, 3, 4, 7, 8, 10, 10, 12, 12]\n",
      "Flip 9 to -> [8, 3, 3, 4, 7, 8, 10, 10, 12, 12]\n",
      "Flip 10 to -> [7, 4, 3, 3, 8, 8, 10, 10, 12, 12]\n",
      "Flip 11 to -> [3, 3, 4, 7, 8, 8, 10, 10, 12, 12]\n"
     ]
    }
   ],
   "source": [
    "inp = '''8\n",
    "7 6 4 2 6 7 8 7\n",
    "----\n",
    "8\n",
    "11 5 12 3 10 3 2 5\n",
    "----\n",
    "10\n",
    "3 12 8 12 4 7 10 3 8 10'''\n",
    "how_many_flips(inp)"
   ]
  },
  {
   "cell_type": "code",
   "execution_count": null,
   "metadata": {
    "collapsed": true
   },
   "outputs": [],
   "source": []
  }
 ],
 "metadata": {
  "kernelspec": {
   "display_name": "Python 2",
   "language": "python",
   "name": "python2"
  },
  "language_info": {
   "codemirror_mode": {
    "name": "ipython",
    "version": 2
   },
   "file_extension": ".py",
   "mimetype": "text/x-python",
   "name": "python",
   "nbconvert_exporter": "python",
   "pygments_lexer": "ipython2",
   "version": "2.7.12"
  }
 },
 "nbformat": 4,
 "nbformat_minor": 2
}
