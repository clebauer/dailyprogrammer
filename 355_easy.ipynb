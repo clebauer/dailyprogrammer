{
 "cells": [
  {
   "cell_type": "code",
   "execution_count": null,
   "metadata": {
    "collapsed": true
   },
   "outputs": [],
   "source": [
    "# https://www.reddit.com/r/dailyprogrammer/comments/879u8b/20180326_challenge_355_easy_alphabet_cipher/\n",
    "# \"The Alphabet Cipher\", published by Lewis Carroll in 1868, describes a Vigenère cipher \n",
    "# (thanks /u/Yadkee for the clarification) for passing secret messages. The cipher involves alphabet \n",
    "# substitution using a shared keyword. Using the alphabet cipher to tranmit messages follows this procedure:"
   ]
  },
  {
   "cell_type": "code",
   "execution_count": 4,
   "metadata": {
    "collapsed": true
   },
   "outputs": [],
   "source": [
    "# Initialize internal chart\n",
    "chart = '''  ABCDEFGHIJKLMNOPQRSTUVWXYZ\n",
    "A abcdefghijklmnopqrstuvwxyz\n",
    "B bcdefghijklmnopqrstuvwxyza\n",
    "C cdefghijklmnopqrstuvwxyzab\n",
    "D defghijklmnopqrstuvwxyzabc\n",
    "E efghijklmnopqrstuvwxyzabcd\n",
    "F fghijklmnopqrstuvwxyzabcde\n",
    "G ghijklmnopqrstuvwxyzabcdef\n",
    "H hijklmnopqrstuvwxyzabcdefg\n",
    "I ijklmnopqrstuvwxyzabcdefgh\n",
    "J jklmnopqrstuvwxyzabcdefghi\n",
    "K klmnopqrstuvwxyzabcdefghij\n",
    "L lmnopqrstuvwxyzabcdefghijk\n",
    "M mnopqrstuvwxyzabcdefghijkl\n",
    "N nopqrstuvwxyzabcdefghijklm\n",
    "O opqrstuvwxyzabcdefghijklmn\n",
    "P pqrstuvwxyzabcdefghijklmno\n",
    "Q qrstuvwxyzabcdefghijklmnop\n",
    "R rstuvwxyzabcdefghijklmnopq\n",
    "S stuvwxyzabcdefghijklmnopqr\n",
    "T tuvwxyzabcdefghijklmnopqrs\n",
    "U uvwxyzabcdefghijklmnopqrst\n",
    "V vwxyzabcdefghijklmnopqrstu\n",
    "W wxyzabcdefghijklmnopqrstuv\n",
    "X xyzabcdefghijklmnopqrstuvw\n",
    "Y yzabcdefghijklmnopqrstuvwx\n",
    "Z zabcdefghijklmnopqrstuvwxy'''\n",
    "\n",
    "chart_new = chart.split('\\n')"
   ]
  },
  {
   "cell_type": "code",
   "execution_count": 5,
   "metadata": {
    "collapsed": true
   },
   "outputs": [],
   "source": [
    "# Functions:\n",
    "def split_msg(input_msg):\n",
    "    # Split the input message into the code word and the raw_msg.\n",
    "    # Convert to uppercase for later parsing\n",
    "    code_word = input_msg.split(' ')[0].upper()\n",
    "    raw_msg = input_msg.split(' ')[1].upper()\n",
    "    \n",
    "    return code_word, raw_msg\n",
    "\n",
    "def encode(input_msg):\n",
    "    new_msg = ''\n",
    "    \n",
    "    # Split the input message into the code word and the raw_msg.\n",
    "    # Convert to uppercase for later parsing\n",
    "    code_word, raw_msg = split_msg(input_msg)\n",
    "\n",
    "    # Gain the number of times code_word fits over raw_msg (+1).\n",
    "    # Then, shorten to length of raw_msg.\n",
    "    code_word_str = (((len(raw_msg)/len(code_word))+1) * code_word)[0:len(raw_msg)]\n",
    "\n",
    "    # For each letter in the code word string and the message,\n",
    "    # Find the column and row, respectively.\n",
    "    # Note: row can be found by subtracting 1 from a column-index search.\n",
    "    for i in range(len(raw_msg)):\n",
    "        code_ix = chart_new[0].index(code_word_str[i])\n",
    "        msg_ix = chart_new[0].index(raw_msg[i])-1\n",
    "        new_msg += chart_new[msg_ix][code_ix]\n",
    "\n",
    "    return new_msg\n",
    "\n",
    "def decode(input_msg):\n",
    "    new_msg = ''\n",
    "    # Split the input message into the code word and the encoded_msg.\n",
    "    # Convert to uppercase for later parsing\n",
    "    code_word, encoded_msg = split_msg(input_msg)\n",
    "    encoded_msg = encoded_msg.lower()\n",
    "    \n",
    "    # Gain the number of times code_word fits over encoded_msg (+1).\n",
    "    # Then, shorten to length of encoded_msg.\n",
    "    code_word_str = (((len(encoded_msg)/len(code_word))+1) * code_word)[0:len(encoded_msg)]\n",
    "    \n",
    "    # now code_word_str == TRAINTRAINTRAINTRAINTRAI\n",
    "    \n",
    "    # For each letter in the code word string and the message,\n",
    "    # Find the column first; this tells us where the index of the next character is.\n",
    "    # Go through each row contain \n",
    "    for i in range(len(encoded_msg)): # for each letter in the message\n",
    "        code_ix = chart_new[0].index(code_word_str[i])\n",
    "        for j in range(len(chart_new)):\n",
    "            if chart_new[j][code_ix] == encoded_msg[i]:\n",
    "                new_msg += chart_new[j][0]\n",
    "\n",
    "    return new_msg.lower()"
   ]
  },
  {
   "cell_type": "code",
   "execution_count": 6,
   "metadata": {},
   "outputs": [
    {
     "data": {
      "text/plain": [
       "'tslqhyzdsndeccajrqhy'"
      ]
     },
     "execution_count": 6,
     "metadata": {},
     "output_type": "execute_result"
    }
   ],
   "source": [
    "encode('monster heyyouireallyloveyou')"
   ]
  }
 ],
 "metadata": {
  "kernelspec": {
   "display_name": "Python 2",
   "language": "python",
   "name": "python2"
  },
  "language_info": {
   "codemirror_mode": {
    "name": "ipython",
    "version": 2
   },
   "file_extension": ".py",
   "mimetype": "text/x-python",
   "name": "python",
   "nbconvert_exporter": "python",
   "pygments_lexer": "ipython2",
   "version": "2.7.12"
  }
 },
 "nbformat": 4,
 "nbformat_minor": 2
}
