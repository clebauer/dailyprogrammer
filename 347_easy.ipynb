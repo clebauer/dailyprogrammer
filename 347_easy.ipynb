{
 "cells": [
  {
   "cell_type": "code",
   "execution_count": 1,
   "metadata": {
    "collapsed": true
   },
   "outputs": [],
   "source": [
    "# https://www.reddit.com/r/dailyprogrammer/comments/7qn07r/20180115_challenge_347_easy_how_long_has_the/\n",
    "# There is a light in a room which lights up only when someone is in the room (think motion detector). \n",
    "# You are given a set of intervals in entrance and exit times as single integers, and expected to find \n",
    "# how long the light has been on. When the times overlap, you need to find the time between the smallest\n",
    "# and the biggest numbers in that interval. There is a light in a room which lights up only when someone \n",
    "# is in the room (think motion detector). You are given a set of intervals in entrance and exit times as \n",
    "# single integers, and expected to find how long the light has been on. When the times overlap, you need\n",
    "# to find the time between the smallest and the biggest numbers in that interval."
   ]
  },
  {
   "cell_type": "code",
   "execution_count": 57,
   "metadata": {},
   "outputs": [
    {
     "name": "stdout",
     "output_type": "stream",
     "text": [
      "set([2, 3, 4, 5, 9, 10, 11, 13, 14, 15, 16, 17, 18, 19])\n"
     ]
    },
    {
     "data": {
      "text/plain": [
       "14"
      ]
     },
     "execution_count": 57,
     "metadata": {},
     "output_type": "execute_result"
    }
   ],
   "source": [
    "inp = '''15 18\n",
    "13 16\n",
    "9 12\n",
    "3 4\n",
    "17 20\n",
    "9 11\n",
    "17 18\n",
    "4 5\n",
    "5 6\n",
    "4 5\n",
    "5 6\n",
    "13 16\n",
    "2 3\n",
    "15 17\n",
    "13 14'''\n",
    "\n",
    "def how_many_hours(inp):\n",
    "    clean_inp = map(int, inp.replace('\\n', ' ').split(' '))\n",
    "    hours_on = [range(clean_inp[x], clean_inp[x+1]) for x in range(0,len(clean_inp),2)]\n",
    "    hours_set = set(item for sublist in hours_on for item in sublist)\n",
    "    print hours_set\n",
    "    return len(hours_set)\n",
    "\n",
    "how_many_hours(inp)"
   ]
  },
  {
   "cell_type": "code",
   "execution_count": null,
   "metadata": {
    "collapsed": true
   },
   "outputs": [],
   "source": [
    "#given a set [2, 3, 3.3, 4, 5, 9, 10, 11, 11.1, 13, 14, 15, 16, 17, 18, 19], tell me how many\n",
    "#sets of consecutive numbers there are: 3. #assume there could be float values"
   ]
  }
 ],
 "metadata": {
  "kernelspec": {
   "display_name": "Python 2",
   "language": "python",
   "name": "python2"
  },
  "language_info": {
   "codemirror_mode": {
    "name": "ipython",
    "version": 2
   },
   "file_extension": ".py",
   "mimetype": "text/x-python",
   "name": "python",
   "nbconvert_exporter": "python",
   "pygments_lexer": "ipython2",
   "version": "2.7.12"
  }
 },
 "nbformat": 4,
 "nbformat_minor": 2
}
